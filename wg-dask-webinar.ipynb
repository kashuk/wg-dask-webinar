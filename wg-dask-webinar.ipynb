{
 "cells": [
  {
   "cell_type": "markdown",
   "metadata": {
    "slideshow": {
     "slide_type": "slide"
    }
   },
   "source": [
    "# Working with the Python DASK library\n",
    "\n",
    "Chris Want -- chris.want@ualberta.ca\n",
    "\n",
    "![](images/logos.png)"
   ]
  },
  {
   "cell_type": "markdown",
   "metadata": {
    "slideshow": {
     "slide_type": "slide"
    }
   },
   "source": [
    "## Notes about the slides ...\n",
    "\n",
    "They are in a Jupyter notebook using the RISE extension.\n",
    "\n",
    "https://github.com/ualberta-rcg/wg-dask-webinar\n",
    "\n",
    "RISE stands for Reveal.js - Jupyter/IPython Slideshow Extension\n",
    "\n",
    "https://rise.readthedocs.io/en/maint-5.5/"
   ]
  },
  {
   "cell_type": "markdown",
   "metadata": {
    "slideshow": {
     "slide_type": "slide"
    }
   },
   "source": [
    "## Goals\n",
    "\n",
    "* Brief intro to DASK\n",
    "* Show some possibilities for:\n",
    "    * Parallelizing programs on your laptop\n",
    "    * Working with Compute Canada\n",
    "* Share some gotchas"
   ]
  },
  {
   "cell_type": "markdown",
   "metadata": {
    "slideshow": {
     "slide_type": "slide"
    }
   },
   "source": [
    "Dask is a library to do parallel stuff"
   ]
  },
  {
   "cell_type": "markdown",
   "metadata": {
    "slideshow": {
     "slide_type": "slide"
    }
   },
   "source": [
    "* Tools to create task graphs\n",
    "* Schedulers/workers/threads to run task graphs\n",
    "* Data collections"
   ]
  },
  {
   "cell_type": "markdown",
   "metadata": {
    "slideshow": {
     "slide_type": "slide"
    }
   },
   "source": [
    "## `dask.delayed`"
   ]
  },
  {
   "cell_type": "markdown",
   "metadata": {
    "slideshow": {
     "slide_type": "slide"
    }
   },
   "source": [
    "### The World's 2nd worst adding function ...\n",
    "(... but at least it's predictable and easy to understand!)"
   ]
  },
  {
   "cell_type": "code",
   "execution_count": null,
   "metadata": {
    "slideshow": {
     "slide_type": "slide"
    }
   },
   "outputs": [],
   "source": [
    "from time import sleep\n",
    "\n",
    "def slow_add(x, y):\n",
    "    sleep(1)\n",
    "    return x + y"
   ]
  },
  {
   "cell_type": "code",
   "execution_count": null,
   "metadata": {
    "slideshow": {
     "slide_type": "slide"
    }
   },
   "outputs": [],
   "source": [
    "%%time\n",
    "# This takes three seconds to run because we call each\n",
    "# function sequentially, one after the other\n",
    "\n",
    "x = slow_add(1, 2)\n",
    "y = slow_add(2, 3)\n",
    "\n",
    "z = slow_add(x, y)\n",
    "\n",
    "print(\"z is\", z)"
   ]
  },
  {
   "cell_type": "code",
   "execution_count": null,
   "metadata": {
    "slideshow": {
     "slide_type": "slide"
    }
   },
   "outputs": [],
   "source": [
    "%%time\n",
    "# Question: swapping two lines, is it any different?\n",
    "\n",
    "y = slow_add(2, 3)\n",
    "x = slow_add(1, 2)\n",
    "\n",
    "z = slow_add(x, y)\n",
    "\n",
    "print(\"z is\", z)"
   ]
  },
  {
   "cell_type": "markdown",
   "metadata": {
    "slideshow": {
     "slide_type": "slide"
    }
   },
   "source": [
    "### Parallelize with `dask.delayed`..."
   ]
  },
  {
   "cell_type": "code",
   "execution_count": null,
   "metadata": {
    "slideshow": {
     "slide_type": "slide"
    }
   },
   "outputs": [],
   "source": [
    "from dask import delayed"
   ]
  },
  {
   "cell_type": "code",
   "execution_count": null,
   "metadata": {
    "slideshow": {
     "slide_type": "slide"
    }
   },
   "outputs": [],
   "source": [
    "%%time\n",
    "# This runs immediately, all it does is build a graph\n",
    "\n",
    "x = delayed(slow_add)(1, 2)\n",
    "y = delayed(slow_add)(2, 3)\n",
    "\n",
    "z = delayed(slow_add)(x, y)\n",
    "z"
   ]
  },
  {
   "cell_type": "code",
   "execution_count": null,
   "metadata": {
    "slideshow": {
     "slide_type": "slide"
    }
   },
   "outputs": [],
   "source": [
    "%%time\n",
    "# This actually runs our computation\n",
    "# using a local thread pool\n",
    "\n",
    "z.compute()"
   ]
  },
  {
   "cell_type": "code",
   "execution_count": null,
   "metadata": {
    "slideshow": {
     "slide_type": "slide"
    }
   },
   "outputs": [],
   "source": [
    "# Look at the task graph for `z`\n",
    "z.visualize()"
   ]
  },
  {
   "cell_type": "code",
   "execution_count": null,
   "metadata": {
    "slideshow": {
     "slide_type": "slide"
    }
   },
   "outputs": [],
   "source": [
    "# How about a for loop on a list?\n",
    "\n",
    "data = [1, 2, 3, 4, 5, 6, 7, 8]"
   ]
  },
  {
   "cell_type": "code",
   "execution_count": null,
   "metadata": {
    "slideshow": {
     "slide_type": "slide"
    }
   },
   "outputs": [],
   "source": [
    "%%time\n",
    "# Sequential code\n",
    "\n",
    "results = []\n",
    "\n",
    "for x in data:\n",
    "    y = slow_add(x, 1)\n",
    "    results.append(y)\n",
    "    \n",
    "total = sum(results)\n",
    "print(\"total is\", total)"
   ]
  },
  {
   "cell_type": "code",
   "execution_count": null,
   "metadata": {
    "slideshow": {
     "slide_type": "slide"
    }
   },
   "outputs": [],
   "source": [
    "results = []\n",
    "\n",
    "for x in data:\n",
    "    y = delayed(slow_add)(x, 1)\n",
    "    results.append(y)\n",
    "    \n",
    "total = delayed(sum)(results)\n",
    "\n",
    "# Let's see what type of thing total is\n",
    "print(\"Printing total: \", total)"
   ]
  },
  {
   "cell_type": "code",
   "execution_count": null,
   "metadata": {
    "slideshow": {
     "slide_type": "slide"
    }
   },
   "outputs": [],
   "source": [
    "%%time\n",
    "\n",
    "# Compuing ...\n",
    "result = total.compute()\n",
    "print(\"Printing result from computing total:\", result)"
   ]
  },
  {
   "cell_type": "code",
   "execution_count": null,
   "metadata": {
    "slideshow": {
     "slide_type": "slide"
    }
   },
   "outputs": [],
   "source": [
    "total.visualize()"
   ]
  },
  {
   "cell_type": "markdown",
   "metadata": {
    "slideshow": {
     "slide_type": "slide"
    }
   },
   "source": [
    "## Schedulers\n",
    "\n",
    "Something has to execute these task graphs!\n",
    "\n",
    "Two families of schedulers:\n",
    "* Single machine\n",
    "* Distributed"
   ]
  },
  {
   "cell_type": "code",
   "execution_count": null,
   "metadata": {
    "slideshow": {
     "slide_type": "slide"
    }
   },
   "outputs": [],
   "source": [
    "# Single thread ...\n",
    "\n",
    "%time total.compute(scheduler='synchronous')"
   ]
  },
  {
   "cell_type": "code",
   "execution_count": null,
   "metadata": {
    "slideshow": {
     "slide_type": "slide"
    }
   },
   "outputs": [],
   "source": [
    "# Local threads\n",
    "# Uses multiprocessing.pool.ThreadPool\n",
    "\n",
    "# Use all the processors\n",
    "%time total.compute(scheduler='threads')"
   ]
  },
  {
   "cell_type": "code",
   "execution_count": null,
   "metadata": {
    "slideshow": {
     "slide_type": "slide"
    }
   },
   "outputs": [],
   "source": [
    "# Or only some\n",
    "%time total.compute(scheduler='threads', num_workers=2)"
   ]
  },
  {
   "cell_type": "code",
   "execution_count": null,
   "metadata": {
    "slideshow": {
     "slide_type": "slide"
    }
   },
   "outputs": [],
   "source": [
    "# Local processes\n",
    "# Uses multiprocessing.Pool\n",
    "\n",
    "# Use all the processors\n",
    "%time result = total.compute(scheduler='processes')"
   ]
  },
  {
   "cell_type": "code",
   "execution_count": null,
   "metadata": {
    "slideshow": {
     "slide_type": "slide"
    }
   },
   "outputs": [],
   "source": [
    "%%time\n",
    "\n",
    "# Or only some\n",
    "result = total.compute(scheduler='processes',\n",
    "                       num_workers=2)"
   ]
  },
  {
   "cell_type": "code",
   "execution_count": null,
   "metadata": {
    "slideshow": {
     "slide_type": "slide"
    }
   },
   "outputs": [],
   "source": [
    "# Gives a nice dashboard\n",
    "# (requires the python package 'bokeh')\n",
    "\n",
    "from dask.distributed import Client\n",
    "client = Client()\n",
    "client"
   ]
  },
  {
   "cell_type": "markdown",
   "metadata": {
    "slideshow": {
     "slide_type": "slide"
    }
   },
   "source": [
    "## The World's worst adding function ...\n",
    "(... easy to understand, but unpredictable)\n"
   ]
  },
  {
   "cell_type": "code",
   "execution_count": null,
   "metadata": {
    "slideshow": {
     "slide_type": "slide"
    }
   },
   "outputs": [],
   "source": [
    "from random import randrange\n",
    "\n",
    "def random_slow_add(x, y):\n",
    "    sleep(randrange(8,15))\n",
    "    return x + y"
   ]
  },
  {
   "cell_type": "code",
   "execution_count": null,
   "metadata": {
    "slideshow": {
     "slide_type": "slide"
    }
   },
   "outputs": [],
   "source": [
    "results = []\n",
    "\n",
    "for x in data:\n",
    "    y = delayed(random_slow_add)(x, 1)\n",
    "    results.append(y)\n",
    "    \n",
    "total = delayed(sum)(results)"
   ]
  },
  {
   "cell_type": "code",
   "execution_count": null,
   "metadata": {
    "slideshow": {
     "slide_type": "slide"
    }
   },
   "outputs": [],
   "source": [
    "%time result = total.compute()"
   ]
  },
  {
   "cell_type": "code",
   "execution_count": null,
   "metadata": {},
   "outputs": [],
   "source": [
    "client.close()"
   ]
  },
  {
   "cell_type": "code",
   "execution_count": null,
   "metadata": {},
   "outputs": [],
   "source": [
    "client = Client(processes=False)\n",
    "client"
   ]
  },
  {
   "cell_type": "markdown",
   "metadata": {
    "slideshow": {
     "slide_type": "slide"
    }
   },
   "source": [
    "## Data collections\n",
    "\n",
    "* Dask Dataframe\n",
    "* Dask Array\n",
    "* Dask Bag"
   ]
  },
  {
   "cell_type": "markdown",
   "metadata": {
    "slideshow": {
     "slide_type": "slide"
    }
   },
   "source": [
    "# Running on a Cluster\n",
    "\n",
    "I'll be borrowing a few demos I teach at my Dask workshop."
   ]
  },
  {
   "cell_type": "markdown",
   "metadata": {
    "slideshow": {
     "slide_type": "slide"
    }
   },
   "source": [
    "### Setup: Log into cluster\n",
    "\n",
    "`ssh $USER@graham.computecanada.ca`"
   ]
  },
  {
   "cell_type": "markdown",
   "metadata": {
    "slideshow": {
     "slide_type": "slide"
    }
   },
   "source": [
    "### Setup: Make a working directory\n",
    "\n",
    "```\n",
    "cd $SCRATCH\n",
    "mkdir dask-cluster-examples\n",
    "cd dask-cluster-examples\n",
    "```"
   ]
  },
  {
   "cell_type": "markdown",
   "metadata": {
    "slideshow": {
     "slide_type": "slide"
    }
   },
   "source": [
    "### Setup: Grab demo files\n",
    "\n",
    "```\n",
    "wget https://raw.githubusercontent.com/ualberta-rcg/python-dask/master/cluster-examples/dask-workers-via-slurm.ipynb\n",
    "wget https://raw.githubusercontent.com/ualberta-rcg/python-dask/master/cluster-examples/run-dask.py\n",
    "wget https://raw.githubusercontent.com/ualberta-rcg/python-dask/master/cluster-examples/run-dask-submit.sh\n",
    "```\n"
   ]
  },
  {
   "cell_type": "markdown",
   "metadata": {
    "slideshow": {
     "slide_type": "slide"
    }
   },
   "source": [
    "### Setup: Create a python virtual environment\n",
    "\n",
    "```\n",
    "module load python/3.7\n",
    "virtualenv --no-download ~/virtualenv/dask\n",
    "source ~/virtualenv/dask/bin/activate\n",
    "pip install jupyter dask dask-jobqueue distributed graphviz bokeh dask-mpi mpi4py\n",
    "```"
   ]
  },
  {
   "cell_type": "markdown",
   "metadata": {
    "slideshow": {
     "slide_type": "slide"
    }
   },
   "source": [
    "## Example 1: Running a Jupyter notebook and using SLURM to create workers\n",
    "\n",
    "We follow the advice on this page: https://docs.computecanada.ca/wiki/Jupyter"
   ]
  },
  {
   "cell_type": "markdown",
   "metadata": {
    "slideshow": {
     "slide_type": "slide"
    }
   },
   "source": [
    "### Example 1: Tunneling\n",
    "\n",
    "Tunneling will allow the browser on your computer to access the Jupyter notebooks and Dask dashboard running on a cluster node.\n",
    "\n",
    "First, in a separate terminal open a tunnel from your laptop/computer to the cluster, E.g.,\n",
    "\n",
    "```\n",
    "sshuttle --dns -Nr $USER@graham.computecanada.ca\n",
    "```\n",
    "\n",
    "If you are on windows, `sshuttle` probably won't work, so check the Jupyter documentation above for alternatives."
   ]
  },
  {
   "cell_type": "markdown",
   "metadata": {
    "slideshow": {
     "slide_type": "slide"
    }
   },
   "source": [
    "### Example 1: Provisioning a node to run a notebook on\n",
    "\n",
    "**NOTE**: you will need to modify the account listed below for your own project.\n",
    "\n",
    "We use the SLURM scheduler to get an interactive node to run Jupyter on:\n",
    "\n",
    "```\n",
    "salloc --account=cc-debug --ntasks=1\n",
    "```"
   ]
  },
  {
   "cell_type": "markdown",
   "metadata": {
    "slideshow": {
     "slide_type": "slide"
    }
   },
   "source": [
    "### Example 1: Running Jupyter\n",
    "\n",
    "Once we have a prompt on the interactive node, we can run the notebook server:\n",
    "\n",
    "```\n",
    "cd $SCRATCH/dask-cluster-examples\n",
    "source ~/virtualenv/dask/bin/activate\n",
    "jupyter-notebook --ip `hostname -f` --no-browser &\n",
    "```\n",
    "\n",
    "This will tell us the address to use in our browser to access the notebooks, e.g.,\n",
    "\n",
    "`http://gra284.graham.sharcnet:8888/?token=924667fa08c3baefa62c29e10d8c8fedcf70406b88a06177`"
   ]
  },
  {
   "cell_type": "markdown",
   "metadata": {
    "slideshow": {
     "slide_type": "slide"
    }
   },
   "source": [
    "### Example 1: Run the example\n",
    "\n",
    "We can now run the example `dask-workers-via-slurm.ipynb` and follow the instructions there."
   ]
  },
  {
   "cell_type": "markdown",
   "metadata": {
    "slideshow": {
     "slide_type": "slide"
    }
   },
   "source": [
    "## Example 2: Running a python script via SLURM to create a Dask network via MPI\n",
    "\n",
    "We will use `dask-mpi` to automatically create our Dask network (scheduler, workers)."
   ]
  },
  {
   "cell_type": "markdown",
   "metadata": {
    "slideshow": {
     "slide_type": "slide"
    }
   },
   "source": [
    "We simply go to the example directory and submit a job directly.\n",
    "You will want to modify the `run-dask-submit.sh` SLURM script to get the accounting group right.\n",
    "\n",
    "```\n",
    "cd $SCRATCH/dask-cluster-examples\n",
    "sbatch dask-mpi-submit.py\n",
    "```\n",
    "\n",
    "This will set up the Dask network using MPI in the script `dask-mpi.py`. The code executed is very similar to the Jupyter example."
   ]
  },
  {
   "cell_type": "markdown",
   "metadata": {
    "slideshow": {
     "slide_type": "slide"
    }
   },
   "source": [
    "## Example 3: Running a python script via SLURM to manually create Dask network\n",
    "\n",
    "We will manually create a scheduler, some workers, and run a python script that uses this infrastructure."
   ]
  },
  {
   "cell_type": "markdown",
   "metadata": {
    "slideshow": {
     "slide_type": "slide"
    }
   },
   "source": [
    "We simply go to the example directory and submit a job directly.\n",
    "You will want to modify the `run-dask-submit.sh` SLURM script to get the accounting group right.\n",
    "\n",
    "```\n",
    "cd $SCRATCH/dask-cluster-examples\n",
    "sbatch run-dask-submit.py\n",
    "```\n",
    "\n",
    "This will set up the Dask network using commandline tools and run the script `run-dask.py` with python. The code executed is very similar to the Jupyter example."
   ]
  },
  {
   "cell_type": "markdown",
   "metadata": {
    "slideshow": {
     "slide_type": "slide"
    }
   },
   "source": [
    "## Thanks! Questions?\n",
    "\n",
    "Slides: https://github.com/ualberta-rcg/wg-dask-webinar\n",
    "\n",
    "Workshop: https://ualberta-rcg.github.io/python-dask/"
   ]
  }
 ],
 "metadata": {
  "celltoolbar": "Slideshow",
  "kernelspec": {
   "display_name": "Python 3",
   "language": "python",
   "name": "python3"
  },
  "language_info": {
   "codemirror_mode": {
    "name": "ipython",
    "version": 3
   },
   "file_extension": ".py",
   "mimetype": "text/x-python",
   "name": "python",
   "nbconvert_exporter": "python",
   "pygments_lexer": "ipython3",
   "version": "3.7.4"
  }
 },
 "nbformat": 4,
 "nbformat_minor": 2
}
